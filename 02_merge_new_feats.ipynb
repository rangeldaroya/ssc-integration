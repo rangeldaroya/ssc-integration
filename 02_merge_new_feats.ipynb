{
 "cells": [
  {
   "cell_type": "code",
   "execution_count": 3,
   "metadata": {},
   "outputs": [],
   "source": [
    "import pandas as pd \n",
    "import os\n",
    "import numpy as np"
   ]
  },
  {
   "cell_type": "code",
   "execution_count": 8,
   "metadata": {},
   "outputs": [],
   "source": [
    "src_dir = \"integrated_feats/\""
   ]
  },
  {
   "cell_type": "code",
   "execution_count": null,
   "metadata": {},
   "outputs": [],
   "source": [
    "split = \"train\"\n",
    "df = pd.DataFrame()\n",
    "for fn in os.listdir(os.path.join(src_dir, split)):\n",
    "    fp = os.path.join(src_dir, split, fn)\n",
    "    print(fp)\n",
    "    data = pd.read_csv(fp)\n",
    "    df = pd.concat([df, data], axis=0)\n",
    "df.to_csv(os.path.join(src_dir, f'{split}.csv'), index=False)\n",
    "print(df.shape)"
   ]
  },
  {
   "cell_type": "code",
   "execution_count": null,
   "metadata": {},
   "outputs": [],
   "source": [
    "split = \"val\"\n",
    "df = pd.DataFrame()\n",
    "for fn in os.listdir(os.path.join(src_dir, split)):\n",
    "    fp = os.path.join(src_dir, split, fn)\n",
    "    print(fp)\n",
    "    data = pd.read_csv(fp)\n",
    "    df = pd.concat([df, data], axis=0)\n",
    "df.to_csv(os.path.join(src_dir, f'{split}.csv'), index=False)\n",
    "print(df.shape)"
   ]
  },
  {
   "cell_type": "code",
   "execution_count": null,
   "metadata": {},
   "outputs": [],
   "source": [
    "split = \"test\"\n",
    "df = pd.DataFrame()\n",
    "for fn in os.listdir(os.path.join(src_dir, split)):\n",
    "    fp = os.path.join(src_dir, split, fn)\n",
    "    print(fp)\n",
    "    data = pd.read_csv(fp)\n",
    "    df = pd.concat([df, data], axis=0)\n",
    "df.to_csv(os.path.join(src_dir, f'{split}.csv'), index=False)\n",
    "print(df.shape)"
   ]
  }
 ],
 "metadata": {
  "kernelspec": {
   "display_name": "torch2",
   "language": "python",
   "name": "python3"
  },
  "language_info": {
   "codemirror_mode": {
    "name": "ipython",
    "version": 3
   },
   "file_extension": ".py",
   "mimetype": "text/x-python",
   "name": "python",
   "nbconvert_exporter": "python",
   "pygments_lexer": "ipython3",
   "version": "3.8.16"
  }
 },
 "nbformat": 4,
 "nbformat_minor": 2
}
