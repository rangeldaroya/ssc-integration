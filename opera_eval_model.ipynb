{
 "cells": [
  {
   "cell_type": "code",
   "execution_count": 1,
   "metadata": {},
   "outputs": [],
   "source": [
    "import torch\n",
    "import torchvision.transforms as transforms\n",
    "import pandas as pd \n",
    "import numpy as np \n",
    "import random\n",
    "import os\n",
    "from loguru import logger\n",
    "import rasterio\n",
    "from matplotlib import pyplot as plt\n",
    "import argparse\n",
    "\n",
    "from models.get_model import get_model"
   ]
  },
  {
   "cell_type": "code",
   "execution_count": 2,
   "metadata": {},
   "outputs": [
    {
     "data": {
      "text/plain": [
       "<torch._C.Generator at 0x7f8c201d97f0>"
      ]
     },
     "execution_count": 2,
     "metadata": {},
     "output_type": "execute_result"
    }
   ],
   "source": [
    "np.random.seed(123)\n",
    "random.seed(123)\n",
    "torch.manual_seed(123)"
   ]
  },
  {
   "cell_type": "code",
   "execution_count": 3,
   "metadata": {},
   "outputs": [],
   "source": [
    "\n",
    "def prepare_inp_data(features, nodata_val=-9999):\n",
    "    feats_tmp = np.where(features==nodata_val, np.nanmax(features), features)\n",
    "    feats_min = np.nanmin(feats_tmp)\n",
    "    feats_tmp = np.where(features==nodata_val, feats_min, features)    # replace nodata values with minimum\n",
    "    feats_tmp = np.where(np.isnan(feats_tmp), feats_min, feats_tmp)    # replace nan values with minimum\n",
    "    feats_tmp = np.nan_to_num(feats_tmp, copy=False, nan=0.0, posinf=0.0, neginf=0.0)\n",
    "\n",
    "    data_transforms = transforms.Compose([\n",
    "        transforms.ToTensor(),\n",
    "    ])\n",
    "    image = feats_tmp.astype(np.float32)\n",
    "    image = data_transforms(image)\n",
    "    # Normalize data\n",
    "    if (torch.max(image)-torch.min(image)):\n",
    "        image = image - torch.min(image)\n",
    "        image = image / torch.maximum(torch.max(image),torch.tensor(1))\n",
    "    else:\n",
    "        image = np.zeros_like(image)\n",
    "    image = image.type(torch.FloatTensor)\n",
    "    return image"
   ]
  },
  {
   "cell_type": "code",
   "execution_count": 4,
   "metadata": {},
   "outputs": [],
   "source": [
    "EPS = 1e-7\n",
    "def compute_mask_metrics(pred, target, thresh=0.5):\n",
    "    thresh_pred = np.where(pred > thresh, 1., 0.)\n",
    "    rec, _, TP_FN = get_recall(thresh_pred, target)\n",
    "    prec, TP, TP_FP = get_precision(thresh_pred, target)\n",
    "    f1 = get_f1(thresh_pred, target)\n",
    "\n",
    "    return rec, prec, f1, TP, TP_FN, TP_FP\n",
    "\n",
    "def get_recall(y_pred, y_true):\n",
    "    TP = np.sum(np.round(np.clip(y_true * y_pred, 0, 1)))\n",
    "    TP_FN = np.sum(np.round(np.clip(y_true, 0, 1)))\n",
    "    recall = TP / (TP_FN + EPS)\n",
    "    return recall, TP, TP_FN\n",
    "\n",
    "def get_precision(y_pred, y_true):\n",
    "    TP = np.sum(np.round(np.clip(y_true * y_pred, 0, 1)))\n",
    "    TP_FP = np.sum(np.round(np.clip(y_pred, 0, 1)))\n",
    "    precision = TP / (TP_FP + EPS)\n",
    "    return precision, TP, TP_FP\n",
    "\n",
    "def get_f1(y_pred, y_true):\n",
    "    precision, _, _ = get_recall(y_pred, y_true)\n",
    "    recall, _, _ = get_precision(y_pred, y_true)\n",
    "    return 2 * ((precision * recall) / (precision + recall + EPS))"
   ]
  },
  {
   "cell_type": "code",
   "execution_count": 5,
   "metadata": {},
   "outputs": [
    {
     "name": "stderr",
     "output_type": "stream",
     "text": [
      "\u001b[32m2024-02-01 17:48:26.674\u001b[0m | \u001b[34m\u001b[1mDEBUG   \u001b[0m | \u001b[36mmodels.get_model\u001b[0m:\u001b[36mget_model\u001b[0m:\u001b[36m45\u001b[0m - \u001b[34m\u001b[1mbackbone_channels: 256\u001b[0m\n",
      "\u001b[32m2024-02-01 17:48:26.679\u001b[0m | \u001b[34m\u001b[1mDEBUG   \u001b[0m | \u001b[36m__main__\u001b[0m:\u001b[36m<module>\u001b[0m:\u001b[36m27\u001b[0m - \u001b[34m\u001b[1mLoading weights from ckpts/deeplabv3p_distrib.pth.tar\u001b[0m\n",
      "\u001b[32m2024-02-01 17:48:26.947\u001b[0m | \u001b[34m\u001b[1mDEBUG   \u001b[0m | \u001b[36m__main__\u001b[0m:\u001b[36m<module>\u001b[0m:\u001b[36m33\u001b[0m - \u001b[34m\u001b[1mAfter loading ckpt: <All keys matched successfully>\u001b[0m\n",
      "\u001b[32m2024-02-01 17:48:26.949\u001b[0m | \u001b[34m\u001b[1mDEBUG   \u001b[0m | \u001b[36m__main__\u001b[0m:\u001b[36m<module>\u001b[0m:\u001b[36m34\u001b[0m - \u001b[34m\u001b[1mCheckpoint epoch: 47. best_perf: 0.032379921397659925\u001b[0m\n"
     ]
    }
   ],
   "source": [
    "class Namespace:\n",
    "    def __init__(self, **kwargs):\n",
    "        self.__dict__.update(kwargs)\n",
    "\n",
    "backbone = \"deeplabv3p\"\n",
    "is_distrib = True\n",
    "ckpt_path = \"ckpts/deeplabv3p_distrib.pth.tar\"\n",
    "opt = Namespace(\n",
    "        ckpt_path=ckpt_path,\n",
    "        backbone=f'{backbone}',\n",
    "        head=f'{backbone}_head',\n",
    "        method='vanilla', \n",
    "        tasks=['water_mask', 'cloudshadow_mask', 'cloud_mask', 'snowice_mask', 'sun_mask'], \n",
    "    )\n",
    "\n",
    "\n",
    "num_inp_feats = 6   # number of channels in input\n",
    "tasks_outputs = {\n",
    "    \"water_mask\": 1,\n",
    "    \"cloudshadow_mask\": 1,\n",
    "    \"cloud_mask\": 1,\n",
    "    \"snowice_mask\": 1,\n",
    "    \"sun_mask\": 1,\n",
    "}\n",
    "model = get_model(opt, tasks_outputs=tasks_outputs, num_inp_feats=num_inp_feats)\n",
    "\n",
    "logger.debug(f\"Loading weights from {ckpt_path}\")\n",
    "checkpoint = torch.load(ckpt_path, map_location=torch.device('cpu'))\n",
    "if is_distrib:\n",
    "    new_ckpt = {k.split(\"module.\")[-1]:v for k,v in checkpoint[\"state_dict\"].items()}\n",
    "    checkpoint[\"state_dict\"] = new_ckpt\n",
    "tmp = model.load_state_dict(checkpoint[\"state_dict\"], strict=True)\n",
    "logger.debug(f\"After loading ckpt: {tmp}\")\n",
    "logger.debug(f\"Checkpoint epoch: {checkpoint['epoch']}. best_perf: {checkpoint['best_performance']}\")"
   ]
  },
  {
   "cell_type": "code",
   "execution_count": 6,
   "metadata": {},
   "outputs": [
    {
     "name": "stdout",
     "output_type": "stream",
     "text": [
      "\n"
     ]
    }
   ],
   "source": [
    "\n",
    "if backbone == \"deeplabv3p\":\n",
    "    optim_threshes = {     # for DeepLabv3+\n",
    "        \"water_mask\": 0.2,\n",
    "        \"cloudshadow_mask\": 0.2,\n",
    "        \"cloud_mask\": 0.3,\n",
    "        \"snowice_mask\": 0.2,\n",
    "        'sun_mask': 0.3,    # for 261k dataset\n",
    "    }\n",
    "elif backbone == \"mobilenetv3\":\n",
    "    optim_threshes = {     # for MobileNet\n",
    "        \"water_mask\": 0.2,\n",
    "        \"cloudshadow_mask\": 0.2,\n",
    "        \"cloud_mask\": 0.3,\n",
    "        \"snowice_mask\": 0.2,\n",
    "        'sun_mask': 0.3,\n",
    "    }\n",
    "elif backbone == \"segnet\":\n",
    "    optim_threshes = {     # for SegNet\n",
    "        \"water_mask\": 0.2,\n",
    "        \"cloudshadow_mask\": 0.2,\n",
    "        \"cloud_mask\": 0.3,\n",
    "        \"snowice_mask\": 0.2,\n",
    "        'sun_mask': 0.5,\n",
    "    }\n",
    "model.eval()\n",
    "print()"
   ]
  },
  {
   "cell_type": "code",
   "execution_count": null,
   "metadata": {},
   "outputs": [],
   "source": [
    "# TODO: on validation set, find best threshold for the different masks"
   ]
  },
  {
   "cell_type": "code",
   "execution_count": 41,
   "metadata": {},
   "outputs": [
    {
     "name": "stdout",
     "output_type": "stream",
     "text": [
      "nan nan\n",
      "nan nan\n",
      "nan nan\n"
     ]
    }
   ],
   "source": [
    "model_recs = []\n",
    "model_precs = []\n",
    "model_f1s = []\n",
    "fmask_recs = []\n",
    "fmask_precs = []\n",
    "fmask_f1s = []\n",
    "\n",
    "batch_size = 12\n",
    "\n",
    "model_TPs, model_TP_FNs, model_TP_FPs = [], [], []\n",
    "fmask_TPs, fmask_TP_FNs, fmask_TP_FPs = [], [], []\n",
    "idxs = list(range(6578))\n",
    "random.shuffle(idxs)\n",
    "for tmp_i in range(6578):\n",
    "    # i = idxs[tmp_i]\n",
    "    i = 1000\n",
    "    fp = f\"dswx_data/{i:06d}.npy\"\n",
    "    with open(fp, \"rb\") as f:\n",
    "        npzfile = np.load(f)\n",
    "        input_data = npzfile[\"input\"]  # (6, 512, 512) (C,H,W)\n",
    "        output_data = npzfile[\"output\"]  # (1, 512, 512) (C,H,W)\n",
    "        fmask_data = npzfile[\"fmask\"]\n",
    "        sat_type = npzfile[\"satellite\"]\n",
    "    input_data = np.transpose(input_data, (1,2,0))  # (512, 512, 6) (H,W,C)\n",
    "    inp_data = prepare_inp_data(input_data)   # size: (6,512,512)\n",
    "    inp_data = torch.unsqueeze(inp_data, dim=0) # to have batch size of 1\n",
    "    with torch.no_grad():\n",
    "        test_pred, feat = model(inp_data, feat=True)\n",
    "    masks = {}\n",
    "    for t in tasks_outputs.keys():\n",
    "        pred_img = test_pred[t][0,:,:].detach().cpu().numpy()\n",
    "        thresh = optim_threshes[t]\n",
    "        masks[t] = (pred_img > thresh).astype(int).squeeze()\n",
    "\n",
    "    # 1=open water; 2=partial water; 252: snow/ice; 253: Cloud/Cloud Shadow and adjacent to cloud/cloud shadow; 254: Ocean Masked -\n",
    "    tmp = np.where(output_data==1, 1, 0) + np.where(output_data==2, 1, 0) + np.where(output_data==254, 1, 0)\n",
    "    water_gt = np.where(tmp>0, 1, 0)\n",
    "    water_gt = water_gt.squeeze()\n",
    "\n",
    "    fmask_water_init = (fmask_data>>5)&1     # Bit 5 is water\n",
    "    fmask_snowice = (fmask_data>>4)&1\n",
    "    fmask_cloudshadow = (fmask_data>>3)&1\n",
    "    fmask_cloud = (fmask_data>>1)&1\n",
    "    fmask_water = (fmask_water_init * (1-fmask_snowice) * (1-fmask_cloudshadow) * (1-fmask_cloud)).squeeze()\n",
    "\n",
    "    water_mask = masks[\"water_mask\"]\n",
    "    cloudshadow_mask = masks[\"cloudshadow_mask\"]\n",
    "    cloud_mask = masks[\"cloud_mask\"]\n",
    "    snowice_mask = masks[\"snowice_mask\"]\n",
    "    sun_mask = masks[\"sun_mask\"]\n",
    "    filtered_water_mask = water_mask * (1-cloudshadow_mask) * (1-cloud_mask) * (1-snowice_mask) * sun_mask\n",
    "    filtered_water_mask = filtered_water_mask.squeeze()\n",
    "\n",
    "    _,_,_, model_TP, model_TP_FN, model_TP_FP = compute_mask_metrics(filtered_water_mask, water_gt, thresh=0.5)\n",
    "    _,_,_, fmask_TP, fmask_TP_FN, fmask_TP_FP = compute_mask_metrics(fmask_water, water_gt, thresh=0.5)\n",
    "    model_TPs.append(model_TP)\n",
    "    model_TP_FNs.append(model_TP_FN)\n",
    "    model_TP_FPs.append(model_TP_FP)\n",
    "    fmask_TPs.append(fmask_TP)\n",
    "    fmask_TP_FNs.append(fmask_TP_FN)\n",
    "    fmask_TP_FPs.append(fmask_TP_FP)\n",
    "    \n",
    "    if len(model_TPs) == batch_size:\n",
    "        model_rec = np.sum(model_TPs) / (np.sum(model_TP_FNs) + EPS)\n",
    "        model_prec = np.sum(model_TPs) / (np.sum(model_TP_FPs) + EPS)\n",
    "        model_f1 = 2 * ((model_prec * model_rec) / (model_prec + model_rec + EPS))\n",
    "        model_recs.append(model_rec)\n",
    "        model_precs.append(model_prec)\n",
    "        model_f1s.append(model_f1)\n",
    "\n",
    "        fmask_rec = np.sum(fmask_TPs) / (np.sum(fmask_TP_FNs) + EPS)\n",
    "        fmask_prec = np.sum(fmask_TPs) / (np.sum(fmask_TP_FPs) + EPS)\n",
    "        fmask_f1 = 2 * ((fmask_prec * fmask_rec) / (fmask_prec + fmask_rec + EPS))\n",
    "        fmask_recs.append(fmask_rec)\n",
    "        fmask_precs.append(fmask_prec)\n",
    "        fmask_f1s.append(fmask_f1)\n",
    "\n",
    "        model_TPs, model_TP_FNs, model_TP_FPs = [], [], []\n",
    "        fmask_TPs, fmask_TP_FNs, fmask_TP_FPs = [], [], []\n",
    "    if (len(model_TPs)==0) and len(model_f1s)>0:\n",
    "        print(f\"[{i:04d}] model F1: {np.mean(model_f1s):.03f}, fmask F1: {np.mean(fmask_f1s):.03f}\")\n",
    "    break\n",
    "print(np.mean(model_f1s), np.mean(fmask_f1s))\n",
    "print(np.mean(model_recs), np.mean(model_precs))\n",
    "print(np.mean(fmask_recs), np.mean(fmask_precs))"
   ]
  },
  {
   "cell_type": "code",
   "execution_count": 42,
   "metadata": {},
   "outputs": [
    {
     "data": {
      "text/plain": [
       "<matplotlib.image.AxesImage at 0x7f8b315f0640>"
      ]
     },
     "execution_count": 42,
     "metadata": {},
     "output_type": "execute_result"
    },
    {
     "data": {
      "image/png": "[encoded data removed]",
      "text/plain": [
       "<Figure size 640x480 with 1 Axes>"
      ]
     },
     "metadata": {},
     "output_type": "display_data"
    }
   ],
   "source": [
    "# 1=open water; 2=partial water; 252: snow/ice; 253: Cloud/Cloud Shadow and adjacent to cloud/cloud shadow; 254: Ocean Masked -\n",
    "tmp = np.where(output_data==1, 1, 0) + np.where(output_data==2, 1, 0) + np.where(output_data==254, 1, 0)\n",
    "water_gt = np.where(tmp>0, 1, 0)\n",
    "plt.imshow(water_gt.squeeze(), cmap=\"gray\")"
   ]
  },
  {
   "cell_type": "code",
   "execution_count": 43,
   "metadata": {},
   "outputs": [
    {
     "data": {
      "text/plain": [
       "<matplotlib.image.AxesImage at 0x7f8b31715f10>"
      ]
     },
     "execution_count": 43,
     "metadata": {},
     "output_type": "execute_result"
    },
    {
     "data": {
      "image/png": "[encoded data removed]",
      "text/plain": [
       "<Figure size 640x480 with 1 Axes>"
      ]
     },
     "metadata": {},
     "output_type": "display_data"
    }
   ],
   "source": [
    "plt.imshow(filtered_water_mask.squeeze(), cmap='gray', vmin=0, vmax=1)"
   ]
  },
  {
   "cell_type": "code",
   "execution_count": 44,
   "metadata": {},
   "outputs": [
    {
     "data": {
      "text/plain": [
       "<matplotlib.image.AxesImage at 0x7f8b31533340>"
      ]
     },
     "execution_count": 44,
     "metadata": {},
     "output_type": "execute_result"
    },
    {
     "data": {
      "image/png": "[encoded data removed]",
      "text/plain": [
       "<Figure size 640x480 with 1 Axes>"
      ]
     },
     "metadata": {},
     "output_type": "display_data"
    }
   ],
   "source": [
    "plt.imshow(fmask_water, cmap='gray')"
   ]
  },
  {
   "cell_type": "code",
   "execution_count": null,
   "metadata": {},
   "outputs": [],
   "source": []
  }
 ],
 "metadata": {
  "kernelspec": {
   "display_name": "torch2",
   "language": "python",
   "name": "python3"
  },
  "language_info": {
   "codemirror_mode": {
    "name": "ipython",
    "version": 3
   },
   "file_extension": ".py",
   "mimetype": "text/x-python",
   "name": "python",
   "nbconvert_exporter": "python",
   "pygments_lexer": "ipython3",
   "version": "3.8.16"
  }
 },
 "nbformat": 4,
 "nbformat_minor": 2
}
